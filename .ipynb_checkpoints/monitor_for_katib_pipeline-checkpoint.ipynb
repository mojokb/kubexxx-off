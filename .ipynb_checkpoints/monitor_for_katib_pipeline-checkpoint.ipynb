{
 "cells": [
  {
   "cell_type": "code",
   "execution_count": 30,
   "metadata": {},
   "outputs": [
    {
     "data": {
      "text/html": [
       "Experiment link <a href=\"/pipeline/#/experiments/details/b2f49855-aee2-4cfb-8ac4-8062b3a6d945\" target=\"_blank\" >here</a>"
      ],
      "text/plain": [
       "<IPython.core.display.HTML object>"
      ]
     },
     "metadata": {},
     "output_type": "display_data"
    },
    {
     "data": {
      "text/html": [
       "Run link <a href=\"/pipeline/#/runs/details/e0feb98f-a016-46b0-8344-bbec2da289b2\" target=\"_blank\" >here</a>"
      ],
      "text/plain": [
       "<IPython.core.display.HTML object>"
      ]
     },
     "metadata": {},
     "output_type": "display_data"
    }
   ],
   "source": [
    "import kfp\n",
    "import kfp.dsl as dsl\n",
    "\n",
    "@dsl.pipeline(\n",
    "    name='MnistPipeline',\n",
    "    description='mnist '\n",
    ")\n",
    "def monitor_for_katib_pipeline(experiment_name, namespace, trial_name):\n",
    "        \n",
    "    monitor_for_katib = dsl.ContainerOp(\n",
    "        name='monitor_for_katib_job',\n",
    "        image='kubeflow-registry.default.svc.cluster.local:30000/monitor-katib-job:D06ACD15',\n",
    "        command=['python', \"-u\", '/app/monitor_for_katib.py'],\n",
    "        arguments=[\n",
    "            \"--experiment_name\", experiment_name,\n",
    "            \"--namespace\", namespace,\n",
    "            \"--trial_name\", trial_name\n",
    "        ]\n",
    "    )\n",
    "\n",
    "        \n",
    "arguments = {'experiment_name': 'mnist-20201010161055',\n",
    "             'namespace': 'amaramusic',\n",
    "             'trial_name': '12'\n",
    "            }\n",
    "\n",
    "if __name__ == '__main__':\n",
    "    kfp.Client().create_run_from_pipeline_func(pipeline_func=monitor_for_katib_pipeline, \n",
    "                                               arguments=arguments)"
   ]
  },
  {
   "cell_type": "code",
   "execution_count": null,
   "metadata": {},
   "outputs": [],
   "source": []
  }
 ],
 "metadata": {
  "kernelspec": {
   "display_name": "Python 3",
   "language": "python",
   "name": "python3"
  },
  "language_info": {
   "codemirror_mode": {
    "name": "ipython",
    "version": 3
   },
   "file_extension": ".py",
   "mimetype": "text/x-python",
   "name": "python",
   "nbconvert_exporter": "python",
   "pygments_lexer": "ipython3",
   "version": "3.6.8"
  }
 },
 "nbformat": 4,
 "nbformat_minor": 4
}
