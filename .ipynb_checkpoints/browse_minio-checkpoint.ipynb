{
 "cells": [
  {
   "cell_type": "code",
   "execution_count": 28,
   "metadata": {},
   "outputs": [],
   "source": [
    "from minio import Minio\n",
    "from minio.error import ResponseError\n",
    "import os\n",
    "import pathlib"
   ]
  },
  {
   "cell_type": "code",
   "execution_count": 29,
   "metadata": {},
   "outputs": [],
   "source": [
    "model_bucket_name = \"amaramusic-model-result\"\n",
    "\n",
    "mc = Minio(\"minio-service.kubeflow.svc.cluster.local:9000\",\n",
    "      access_key=\"minio\",\n",
    "      secret_key=\"minio123\",\n",
    "      secure=False)  "
   ]
  },
  {
   "cell_type": "code",
   "execution_count": 30,
   "metadata": {},
   "outputs": [
    {
     "name": "stdout",
     "output_type": "stream",
     "text": [
      "True\n"
     ]
    }
   ],
   "source": [
    "print(mc.bucket_exists(model_bucket_name))\n",
    "lists = mc.list_objects(model_bucket_name, prefix=\"result/saved_model/001\", recursive=True)\n",
    "copy_model_dir = \"/home/jovyan/result/saved_model\"\n",
    "pathlib.Path(copy_model_dir).mkdir(parents=True, exist_ok=True)\n",
    "for object in lists:\n",
    "    if os.path.isdir(copy_model_dir):\n",
    "        mc.fget_object(model_bucket_name, object.object_name, object.object_name)"
   ]
  },
  {
   "cell_type": "code",
   "execution_count": 31,
   "metadata": {},
   "outputs": [],
   "source": [
    "from kubernetes import client\n",
    "\n",
    "from kfserving import KFServingClient\n",
    "from kfserving import constants\n",
    "from kfserving import utils\n",
    "from kfserving import V1alpha2EndpointSpec\n",
    "from kfserving import V1alpha2PredictorSpec\n",
    "from kfserving import V1alpha2TensorflowSpec\n",
    "from kfserving import V1alpha2InferenceServiceSpec\n",
    "from kfserving import V1alpha2InferenceService\n",
    "from kubernetes.client import V1ResourceRequirements"
   ]
  },
  {
   "cell_type": "code",
   "execution_count": 32,
   "metadata": {},
   "outputs": [],
   "source": [
    "namespace = utils.get_default_target_namespace()"
   ]
  },
  {
   "cell_type": "code",
   "execution_count": 33,
   "metadata": {},
   "outputs": [],
   "source": [
    "api_version = constants.KFSERVING_GROUP + '/' + constants.KFSERVING_VERSION\n",
    "default_endpoint_spec = V1alpha2EndpointSpec(\n",
    "                          predictor=V1alpha2PredictorSpec(\n",
    "                            tensorflow=V1alpha2TensorflowSpec(\n",
    "                              storage_uri='file://'+copy_model_dir,\n",
    "                              resources=V1ResourceRequirements(\n",
    "                                  requests={'cpu':'100m','memory':'1Gi'},\n",
    "                                  limits={'cpu':'100m', 'memory':'1Gi'}))))\n",
    "    \n",
    "isvc = V1alpha2InferenceService(api_version=api_version,\n",
    "                          kind=constants.KFSERVING_KIND,\n",
    "                          metadata=client.V1ObjectMeta(\n",
    "                              name='tf-test-sample', namespace=namespace),\n",
    "                          spec=V1alpha2InferenceServiceSpec(default=default_endpoint_spec))"
   ]
  },
  {
   "cell_type": "code",
   "execution_count": 36,
   "metadata": {},
   "outputs": [
    {
     "data": {
      "text/plain": [
       "{'apiVersion': 'serving.kubeflow.org/v1alpha2',\n",
       " 'kind': 'InferenceService',\n",
       " 'metadata': {'creationTimestamp': '2020-10-11T01:33:13Z',\n",
       "  'generation': 1,\n",
       "  'name': 'tf-test-sample',\n",
       "  'namespace': 'amaramusic',\n",
       "  'resourceVersion': '12177724',\n",
       "  'selfLink': '/apis/serving.kubeflow.org/v1alpha2/namespaces/amaramusic/inferenceservices/tf-test-sample',\n",
       "  'uid': '2cdb37fa-afaf-49c6-8c95-f71d01d32293'},\n",
       " 'spec': {'default': {'predictor': {'tensorflow': {'resources': {'limits': {'cpu': '100m',\n",
       "       'memory': '1Gi'},\n",
       "      'requests': {'cpu': '100m', 'memory': '1Gi'}},\n",
       "     'runtimeVersion': '1.14.0',\n",
       "     'storageUri': 'file:///home/jovyan/result/saved_model'}}}},\n",
       " 'status': {}}"
      ]
     },
     "execution_count": 36,
     "metadata": {},
     "output_type": "execute_result"
    }
   ],
   "source": [
    "KFServing = KFServingClient()\n",
    "KFServing.create(isvc)"
   ]
  },
  {
   "cell_type": "code",
   "execution_count": 35,
   "metadata": {},
   "outputs": [
    {
     "name": "stdout",
     "output_type": "stream",
     "text": [
      "NAME                 READY      DEFAULT_TRAFFIC CANARY_TRAFFIC  URL                                               \n",
      "tf-test-sample       False                                                                                        \n",
      "tf-test-sample       False                                                                                        \n"
     ]
    }
   ],
   "source": [
    "KFServing.get('tf-test-sample', namespace=namespace, watch=True, timeout_seconds=120)"
   ]
  }
 ],
 "metadata": {
  "kernelspec": {
   "display_name": "Python 3",
   "language": "python",
   "name": "python3"
  },
  "language_info": {
   "codemirror_mode": {
    "name": "ipython",
    "version": 3
   },
   "file_extension": ".py",
   "mimetype": "text/x-python",
   "name": "python",
   "nbconvert_exporter": "python",
   "pygments_lexer": "ipython3",
   "version": "3.6.8"
  }
 },
 "nbformat": 4,
 "nbformat_minor": 4
}
