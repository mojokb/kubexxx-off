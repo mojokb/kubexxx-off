{
 "cells": [
  {
   "cell_type": "code",
   "execution_count": null,
   "metadata": {},
   "outputs": [],
   "source": [
    "import kfp\n",
    "import kfp.dsl as dsl\n",
    "\n",
    "@dsl.pipeline(\n",
    "    name='MnistPipeline',\n",
    "    description='mnist '\n",
    ")\n",
    "def mnist_katib_pipeline(user_namespace, max_failed_trial_count, parallel_trial_count, max_trial_count, train_image_name):\n",
    "        \n",
    "    mnist_katib_job = dsl.ContainerOp(\n",
    "        name='mnist_katib_job',\n",
    "        image='kubeflow-registry.default.svc.cluster.local:30000/mnist-katib-job:91DE0588',\n",
    "        command=['python', '/app/mnist_for_katib.py'],\n",
    "        arguments=[\n",
    "            \"--user_namespace\", user_namespace,\n",
    "            \"--max_failed_trial_count\", max_failed_trial_count,\n",
    "            \"--parallel_trial_count\", parallel_trial_count,\n",
    "            \"--max_trial_count\", max_trial_count,\n",
    "            \"--train_image_name\", train_image_name\n",
    "        ],\n",
    "        file_outputs={\n",
    "            'output': '/output.txt',\n",
    "        },            \n",
    "        output_artifact_paths={'mlpipeline-metrics': '/mlpipeline-metrics.json'},\n",
    "    ).output\n",
    "    \n",
    "    \n",
    "    monitor_for_katib = dsl.ContainerOp(\n",
    "        name='monitor_for_katib_job',\n",
    "        image='kubeflow-registry.default.svc.cluster.local:30000/monitor-katib-job:D06ACD15',\n",
    "        command=['python', \"-u\", '/app/monitor_for_katib.py'],\n",
    "        arguments=[\n",
    "            \"--experiment_name\", mnist_katib_job,\n",
    "            \"--namespace\", user_namespace\n",
    "        ]\n",
    "    )\n",
    "    \n",
    "\n",
    "        \n",
    "arguments = {'user_namespace': 'amaramusic',\n",
    "             'max_failed_trial_count': '3',\n",
    "             'parallel_trial_count': '1',\n",
    "             'max_trial_count': '12',\n",
    "             'train_image_name' : 'kubeflow-registry.default.svc.cluster.local:30000/mnist-train:C3081A64'\n",
    "            }\n",
    "\n",
    "if __name__ == '__main__':\n",
    "    kfp.Client().create_run_from_pipeline_func(pipeline_func=mnist_katib_pipeline, \n",
    "                                               arguments=arguments)"
   ]
  },
  {
   "cell_type": "code",
   "execution_count": null,
   "metadata": {},
   "outputs": [],
   "source": [
    "!pip install kubeflow-katib==0.0.2"
   ]
  }
 ],
 "metadata": {
  "kernelspec": {
   "display_name": "Python 3",
   "language": "python",
   "name": "python3"
  },
  "language_info": {
   "codemirror_mode": {
    "name": "ipython",
    "version": 3
   },
   "file_extension": ".py",
   "mimetype": "text/x-python",
   "name": "python",
   "nbconvert_exporter": "python",
   "pygments_lexer": "ipython3",
   "version": "3.6.8"
  }
 },
 "nbformat": 4,
 "nbformat_minor": 4
}
