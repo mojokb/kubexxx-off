{
 "cells": [
  {
   "cell_type": "code",
   "execution_count": 1,
   "metadata": {},
   "outputs": [
    {
     "data": {
      "text/html": [
       "Experiment link <a href=\"/pipeline/#/experiments/details/b2f49855-aee2-4cfb-8ac4-8062b3a6d945\" target=\"_blank\" >here</a>"
      ],
      "text/plain": [
       "<IPython.core.display.HTML object>"
      ]
     },
     "metadata": {},
     "output_type": "display_data"
    },
    {
     "data": {
      "text/html": [
       "Run link <a href=\"/pipeline/#/runs/details/2ddc98e4-149f-4246-921e-8ed4e2d12c9f\" target=\"_blank\" >here</a>"
      ],
      "text/plain": [
       "<IPython.core.display.HTML object>"
      ]
     },
     "metadata": {},
     "output_type": "display_data"
    }
   ],
   "source": [
    "import kfp\n",
    "import kfp.dsl as dsl\n",
    "import kfp.onprem as onprem\n",
    "\n",
    "@dsl.pipeline(\n",
    "    name='AttachStorage',\n",
    "    description='Create a pvc, attach it to pipeline.'\n",
    ")\n",
    "def attatch_pvc_pipeline():\n",
    "    \n",
    "    vop = dsl.VolumeOp(\n",
    "        name=\"volume_creation\",\n",
    "        resource_name=\"mypvc\",\n",
    "        storage_class=\"nfs-client\",\n",
    "        modes=dsl.VOLUME_MODE_RWM,\n",
    "        size=\"1Gi\"\n",
    "    )\n",
    "    \n",
    "    op1 = dsl.ContainerOp(\n",
    "        name='HelloKubeflow',\n",
    "        image='alpine',\n",
    "        command=['sh', '-c'],\n",
    "        arguments=['echo \"hello Kubeflow\" > /mnt/content.txt'],\n",
    "        pvolumes={\"/mnt\": vop.volume}\n",
    "    )\n",
    "    \n",
    "    op2 = dsl.ContainerOp(\n",
    "        name='cat-content',\n",
    "        image='alpine',\n",
    "        command=['cat'],\n",
    "        arguments=['/mnt/content.txt'],\n",
    "        pvolumes={\"/mnt\": op1.pvolume}\n",
    "    )\n",
    "\n",
    "    op1.after(vop)\n",
    "    op2.after(op1)\n",
    "        \n",
    "     \n",
    "if __name__ == '__main__':\n",
    "    kfp.Client().create_run_from_pipeline_func(pipeline_func=attatch_pvc_pipeline, \n",
    "                                               arguments={})"
   ]
  },
  {
   "cell_type": "code",
   "execution_count": null,
   "metadata": {},
   "outputs": [],
   "source": []
  }
 ],
 "metadata": {
  "kernelspec": {
   "display_name": "Python 3",
   "language": "python",
   "name": "python3"
  },
  "language_info": {
   "codemirror_mode": {
    "name": "ipython",
    "version": 3
   },
   "file_extension": ".py",
   "mimetype": "text/x-python",
   "name": "python",
   "nbconvert_exporter": "python",
   "pygments_lexer": "ipython3",
   "version": "3.6.8"
  }
 },
 "nbformat": 4,
 "nbformat_minor": 4
}
