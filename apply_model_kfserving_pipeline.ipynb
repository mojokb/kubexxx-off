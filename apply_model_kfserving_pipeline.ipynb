{
 "cells": [
  {
   "cell_type": "code",
   "execution_count": 33,
   "metadata": {},
   "outputs": [
    {
     "data": {
      "text/html": [
       "Experiment link <a href=\"/pipeline/#/experiments/details/b2f49855-aee2-4cfb-8ac4-8062b3a6d945\" target=\"_blank\" >here</a>"
      ],
      "text/plain": [
       "<IPython.core.display.HTML object>"
      ]
     },
     "metadata": {},
     "output_type": "display_data"
    },
    {
     "data": {
      "text/html": [
       "Run link <a href=\"/pipeline/#/runs/details/44d3cee9-95c1-445f-bf13-62080cdbc83c\" target=\"_blank\" >here</a>"
      ],
      "text/plain": [
       "<IPython.core.display.HTML object>"
      ]
     },
     "metadata": {},
     "output_type": "display_data"
    }
   ],
   "source": [
    "import kfp\n",
    "import kfp.dsl as dsl\n",
    "\n",
    "\"\"\"\n",
    "Apply model to kfserving by pipeline\n",
    "worflow\n",
    " 1. PVC를 생성 \n",
    " 2. 전달 받은 version 해당하는 dataset를 minio에서 생성된 PVC로 복사\n",
    " 3. KFServing 생성\n",
    "    3.1 존재하는 모델이면 Update kfserving\n",
    "    3.2 존재하지 않는 모델 서버면 Create kfserving\n",
    " 4. 정상적으로 생성시 1 에서 생성한 PVC 삭제.\n",
    " \n",
    "단, pipeline에서는 현재 pvc는 kubeflow namespace에서 가능하기 때문에 kfserving도 kubeflow namespace에서 진행? \n",
    "kubeflow namespace 에서     \n",
    "\n",
    "metadata:\n",
    "  labels:\n",
    "    serving.kubeflow.org/inferenceservice: enabled\n",
    " \n",
    "추가 필요\n",
    "\n",
    "model_bucket_name, version, model_name, namespace, pvc_name\n",
    "\"\"\"\n",
    "\n",
    "@dsl.pipeline(\n",
    "    name='apply_model_kfserving_pipeline',\n",
    "    description='Apply model to kfserving by pipeline.'\n",
    ")\n",
    "def apply_model_kfserving_pipeline(model_name,\n",
    "                                   version,  \n",
    "                                   namespace):\n",
    "    \n",
    "    vop = dsl.VolumeOp(\n",
    "        name=\"model_volume_creation\",\n",
    "        resource_name=\"model_pvc\",\n",
    "        storage_class=\"nfs-client\",\n",
    "        modes=dsl.VOLUME_MODE_RWM,\n",
    "        size=\"5Gi\"\n",
    "    )\n",
    "    \n",
    "    op1 = dsl.ContainerOp(\n",
    "        name='apply_model_kfserving',\n",
    "        image='kubeflow-registry.default.svc.cluster.local:30000/apply-model-kfserving:CEF7B942',\n",
    "        command=['python', '/app/apply_model_kfserving.py'],\n",
    "        arguments=['--model_name', model_name,\n",
    "                   '--namespace', namespace,\n",
    "                   '--pvc_name', vop.outputs['name'],\n",
    "                   '--version', version\n",
    "                  ],\n",
    "        pvolumes={\"/model\": vop.volume}\n",
    "    )   \n",
    "    \n",
    "    op1.after(vop)\n",
    "\n",
    "        \n",
    "arguments = {'model_name': 'test-my-model',\n",
    "             'version': '001',\n",
    "             'namespace': 'amaramusic'\n",
    "            }    \n",
    "    \n",
    "if __name__ == '__main__':\n",
    "    kfp.Client().create_run_from_pipeline_func(pipeline_func=apply_model_kfserving_pipeline, \n",
    "                                               arguments=arguments)    \n",
    "        "
   ]
  },
  {
   "cell_type": "code",
   "execution_count": null,
   "metadata": {},
   "outputs": [],
   "source": []
  }
 ],
 "metadata": {
  "kernelspec": {
   "display_name": "Python 3",
   "language": "python",
   "name": "python3"
  },
  "language_info": {
   "codemirror_mode": {
    "name": "ipython",
    "version": 3
   },
   "file_extension": ".py",
   "mimetype": "text/x-python",
   "name": "python",
   "nbconvert_exporter": "python",
   "pygments_lexer": "ipython3",
   "version": "3.6.8"
  }
 },
 "nbformat": 4,
 "nbformat_minor": 4
}
